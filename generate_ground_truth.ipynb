{
 "cells": [
  {
   "cell_type": "code",
   "execution_count": 18,
   "id": "5b600c74",
   "metadata": {},
   "outputs": [],
   "source": [
    "import pandas as pd  \n",
    "df = pd.read_csv(\"tdgd_laptop/laptop_all.csv\")"
   ]
  },
  {
   "cell_type": "code",
   "execution_count": 19,
   "id": "d7e51fbd",
   "metadata": {},
   "outputs": [],
   "source": [
    "df['code'] = df['code'].apply(lambda x: str(x))\n",
    "df['name'] = df['name'].apply(lambda x: str(x).strip())"
   ]
  },
  {
   "cell_type": "code",
   "execution_count": 20,
   "id": "0a133439",
   "metadata": {},
   "outputs": [],
   "source": [
    "# cols = ['brand', 'cpu1', 'cpu2', 'cpu3', 'ram', 'oCung']\n",
    "cols = ['brand', 'cpu1', 'ram']\n",
    "value_dict = {}\n",
    "for c in cols:\n",
    "    df[c] = df[c].apply(lambda x: str(x).strip())\n",
    "    value_dict[c] = list(set(df[c].tolist()))\n",
    "    \n",
    "keys = list(value_dict.keys())"
   ]
  },
  {
   "cell_type": "code",
   "execution_count": 21,
   "id": "13f395b2",
   "metadata": {},
   "outputs": [
    {
     "name": "stdout",
     "output_type": "stream",
     "text": [
      "iterate_nums =  [13, 10, 5]\n"
     ]
    }
   ],
   "source": [
    "iterate_nums = [len(value_dict[k]) for k in keys]\n",
    "search_strings = []\n",
    "pre_search_string = []\n",
    "print('iterate_nums = ', iterate_nums)\n",
    "i = 0\n",
    "while i >= 0:\n",
    "    '''\n",
    "    key: mảng chứa các cột sẽ concat\n",
    "    iterate_nums: mảng chứa số lần lặp còn lại ở cột tuơng ứng\n",
    "    value_dict: dictionary chứa các giá trị của một cột\n",
    "    '''\n",
    "    #cột đang xét\n",
    "    current_col = value_dict[keys[i]]\n",
    "    \n",
    "    #giá trị đang xét ở cột này\n",
    "    current_cell = current_col[iterate_nums[i] - 1]\n",
    "    \n",
    "#     print(\"current_cell: \",current_cell)\n",
    "    \n",
    "    if len(search_strings) > 0:\n",
    "#         print(\"search_strings[len(search_strings) - 1]: \", search_strings[len(search_strings) - 1])\n",
    "        pre_string = pre_search_string[:]\n",
    "        pre_string.append(current_cell)\n",
    "#         print(\"pre_string: \", pre_string)\n",
    "        search_strings.append(pre_string)\n",
    "        pre_search_string = pre_string[:]\n",
    "    else:\n",
    "#         print(current_cell)\n",
    "        search_strings.append([current_cell])\n",
    "        pre_search_string = [current_cell][:]\n",
    "    \n",
    "    #nếu còn cột tiếp theo mà cột tiếp theo chưa duyệt xong thì lên cột đó\n",
    "#     print('i: ', i)\n",
    "#     print('i + 1 < len(iterate_nums): ', i + 1 < len(iterate_nums))\n",
    "#     print('iterate_nums[i + 1]: ', iterate_nums[i + 1] )\n",
    "#     print('i + 1 < len(iterate_nums) & iterate_nums[i + 1] > 0: ',  i + 1 < len(iterate_nums) & iterate_nums[i + 1] > 0)\n",
    "#     print('     ***')\n",
    "#     print('i = ', i)\n",
    "#     print('len(iterate_nums) = ', len(iterate_nums))\n",
    "    if (i + 1 <= len(iterate_nums) - 1):\n",
    "        i += 1\n",
    "    elif iterate_nums[i] > 0:\n",
    "        iterate_nums[i] -= 1\n",
    "        pre_search_string.pop()\n",
    "    else:\n",
    "#         print(f'Vao else i = {i}, iterate_nums = {iterate_nums}')\n",
    "        i -= 1\n",
    "        pre_search_string.pop()\n",
    "        if iterate_nums[i] > 0:\n",
    "            pre_search_string.pop()\n",
    "            iterate_nums[i] -= 1\n",
    "#             print(f'Vong for i = {i}, len(iterate_nums) = {len(iterate_nums)}')\n",
    "            for t in range(i + 1, len(iterate_nums)):\n",
    "#                 print('t: ', t)\n",
    "#                 print('iterate_nums[t]: ', iterate_nums[t])\n",
    "#                 print('value_dict[keys[t]]: ', len(value_dict[keys[t]]))\n",
    "                iterate_nums[t] = len(value_dict[keys[t]])\n",
    "        else:\n",
    "            while iterate_nums[i] == 0 & i >= 0:\n",
    "#                 print('VAO VONG WHILE O CUOI')\n",
    "    #             i = -1\n",
    "    #             break\n",
    "                i -= 1\n",
    "                if i < 0:\n",
    "                    break\n",
    "\n",
    "                pre_search_string.pop()\n",
    "                if iterate_nums[i] > 0:\n",
    "                    iterate_nums[i] -= 1\n",
    "    #                 if iterate_nums[i] < 0:\n",
    "    #                     break\n",
    "                    pre_search_string.pop()\n",
    "    #                 print(f'Vong for i = {i}, len(iterate_nums) = {len(iterate_nums)}')\n",
    "                    for t in range(i + 1, len(iterate_nums)):\n",
    "    #                     print('t: ', t)\n",
    "    #                     print('iterate_nums[t]: ', iterate_nums[t])\n",
    "    #                     print('value_dict[keys[t]]: ', len(value_dict[keys[t]]))\n",
    "                        iterate_nums[t] = len(value_dict[keys[t]])\n"
   ]
  },
  {
   "cell_type": "code",
   "execution_count": 22,
   "id": "4de0dec0",
   "metadata": {},
   "outputs": [],
   "source": [
    "def process_query(list_attr):\n",
    "    r = ''\n",
    "    for a in list_attr:\n",
    "        r += a + ' '\n",
    "    \n",
    "    return r\n",
    "\n",
    "# def process_result(list_re):\n",
    "#     r = ''\n",
    "#     for re in list_re:\n",
    "#         r += re + ' '"
   ]
  },
  {
   "cell_type": "code",
   "execution_count": 23,
   "id": "a929c422",
   "metadata": {},
   "outputs": [],
   "source": [
    "# query = []\n",
    "# results = []\n",
    "evaluate = {\n",
    "    'query': [],\n",
    "    'result': []\n",
    "}\n",
    "for s in search_strings:\n",
    "#     print(s)\n",
    "    d_test = df\n",
    "    for (idx, val) in enumerate(s):\n",
    "    #     print(f\"idx = {cols[idx]}, val = {val}\")\n",
    "        d_test = d_test[d_test[cols[idx]] == val]\n",
    "    result = list(d_test['code'])\n",
    "    if len(result) > 0:\n",
    "#         query.append(s)\n",
    "#         results.append(result)\n",
    "        evaluate['query'].append(process_query(s))\n",
    "        evaluate['result'].append(process_query(result))\n",
    "        \n",
    "# print(evaluate)"
   ]
  },
  {
   "cell_type": "code",
   "execution_count": 24,
   "id": "5835e6c4",
   "metadata": {},
   "outputs": [],
   "source": [
    "eval_df = pd.DataFrame(evaluate)\n",
    "eval_df.to_csv(\"evaluate.csv\", index=False)"
   ]
  }
 ],
 "metadata": {
  "kernelspec": {
   "display_name": "jupenv",
   "language": "python",
   "name": "jupenv"
  },
  "language_info": {
   "codemirror_mode": {
    "name": "ipython",
    "version": 3
   },
   "file_extension": ".py",
   "mimetype": "text/x-python",
   "name": "python",
   "nbconvert_exporter": "python",
   "pygments_lexer": "ipython3",
   "version": "3.9.2"
  }
 },
 "nbformat": 4,
 "nbformat_minor": 5
}
