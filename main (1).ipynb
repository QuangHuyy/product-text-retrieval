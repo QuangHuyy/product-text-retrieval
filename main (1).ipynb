{
 "cells": [
  {
   "cell_type": "code",
   "execution_count": 1,
   "metadata": {
    "scrolled": true
   },
   "outputs": [
    {
     "name": "stderr",
     "output_type": "stream",
     "text": [
      "/tmp/ipykernel_1083/2933293930.py:6: TqdmExperimentalWarning: Using `tqdm.autonotebook.tqdm` in notebook mode. Use `tqdm.tqdm` instead to force console mode (e.g. in jupyter console)\n",
      "  from tqdm.autonotebook import tqdm\n"
     ]
    }
   ],
   "source": [
    "import numpy as np\n",
    "import sklearn\n",
    "import underthesea\n",
    "import json\n",
    "import os\n",
    "from tqdm.autonotebook import tqdm\n",
    "from glob import glob\n",
    "from pprint import pprint\n",
    "import nltk\n",
    "from underthesea import word_tokenize\n",
    "from sklearn.decomposition import TruncatedSVD\n",
    "import math\n",
    "import sklearn\n"
   ]
  },
  {
   "cell_type": "markdown",
   "metadata": {},
   "source": [
    "## Load data in json file\n",
    "\n",
    "In dataset, item format is json with many fields and coresponding content "
   ]
  },
  {
   "cell_type": "code",
   "execution_count": 4,
   "metadata": {
    "scrolled": true
   },
   "outputs": [
    {
     "name": "stdout",
     "output_type": "stream",
     "text": [
      "3459\n",
      "{'Chất liệu': 'chất liệu cotton',\n",
      " 'Danh Mục': 'danh mục thời trang nữ áo áo thun',\n",
      " 'Gửi từ': 'gửi từ quận 4 tp hồ chí minh',\n",
      " 'Kho hàng': 'kho hàng 6',\n",
      " 'Kiểu tay': 'kiểu tay ngắn tay',\n",
      " 'Thương hiệu': 'thương hiệu no brand',\n",
      " 'Xuất xứ': 'xuất xứ quảng châu',\n",
      " 'desc_2': 'áo thun croptop mịn đẹp  chất thun cotton co giãn thấm hút mồ hôi  '\n",
      "           'phối quần jean  quần short  chân váy đều xinh  trẻ trung năng động '\n",
      "           '4 màu trắng đỏ đen xanh aothunfreesize aothuncotton aothunformrong '\n",
      "           'aophong aothun aodangrong aoniphoisomi aokorea aolechvai aocoduc '\n",
      "           'aotrevai hoodie hoodie aothunnu',\n",
      " 'price': '86000',\n",
      " 'title': 'áo thun cotton croptop ulzzang in số'}\n"
     ]
    }
   ],
   "source": [
    "json_fns = glob(\"./dataset/*.json\")\n",
    "items = []\n",
    "\n",
    "for fn in json_fns:\n",
    "    with open(fn, \"r\") as f:\n",
    "        items += json.load(f)\n",
    "print(len(items))\n",
    "test_item = items[0]\n",
    "pprint(test_item)"
   ]
  },
  {
   "cell_type": "code",
   "execution_count": 4,
   "metadata": {},
   "outputs": [],
   "source": [
    "import pandas as pd\n",
    "df = pd.read_csv('./tdgd_laptop/laptop_all.csv')"
   ]
  },
  {
   "cell_type": "code",
   "execution_count": 6,
   "metadata": {},
   "outputs": [],
   "source": [
    "items = []\n",
    "\n",
    "for index, row in df.iterrows():\n",
    "    items.append(row['full_name'])"
   ]
  },
  {
   "cell_type": "markdown",
   "metadata": {},
   "source": [
    "### Tokenizer: word segmentation"
   ]
  },
  {
   "cell_type": "code",
   "execution_count": 7,
   "metadata": {},
   "outputs": [],
   "source": [
    "class Tfidf:\n",
    "    def __init__(self, title_string = \"hello my friend\"):\n",
    "        self.corpus = {}\n",
    "        self.corpus_counter = {}\n",
    "        self.object_title = title_string\n",
    "        self.corpus_len = 0\n",
    "        \n",
    "    '''\n",
    "    Xây dựng TF-IDF cho danh sách documents nhận đuợc\n",
    "    documents: list<string>\n",
    "    '''\n",
    "    def fit_data(self, documents):\n",
    "#         print(type(documents))\n",
    "#         if type(documents) != \"list\":\n",
    "#             raise ValueError('documents must be type of list')\n",
    "        \n",
    "#         đếm số lần xuất hiện của mỗi từ\n",
    "        for d in documents:\n",
    "            tokens = word_tokenize(d, format='text').split()\n",
    "            self.corpus_len += 1\n",
    "            for t in tokens:\n",
    "                if t in self.corpus_counter.keys():\n",
    "                    self.corpus_counter[t] += 1\n",
    "                else:\n",
    "                    self.corpus_counter[t] = 1\n",
    "        \n",
    "        \n",
    "        \n",
    "    def print_data(self):\n",
    "        print(self.corpus_counter)\n",
    "        print(len(self.corpus_counter))\n",
    "        \n",
    "    def get_tfidf(self, string):\n",
    "        doc_counter = {}\n",
    "        k = 2\n",
    "        tokens = word_tokenize(string, format='text').split()\n",
    "        for t in tokens:\n",
    "            if t in doc_counter.keys():\n",
    "                doc_counter[t] += 1\n",
    "            else:\n",
    "                doc_counter[t] = 1\n",
    "        \n",
    "        vector_len = len(self.corpus_counter)\n",
    "        tfidf_vector = np.zeros((vector_len,))\n",
    "        for i, key in enumerate(self.corpus_counter.keys()):\n",
    "            if key in doc_counter.keys():\n",
    "                tf = (k+1)*doc_counter[key]/(k+doc_counter[key])\n",
    "                idf = math.log((self.corpus_len+1)/(self.corpus_counter[key]))\n",
    "                tfidf_vector[i] = tf*idf\n",
    "        return tfidf_vector"
   ]
  },
  {
   "cell_type": "code",
   "execution_count": 11,
   "metadata": {},
   "outputs": [],
   "source": [
    "class Storage:\n",
    "    def __init__(self):\n",
    "        self.tfidf_space = []\n",
    "        self.tfidf = Tfidf()\n",
    "        self.svd = TruncatedSVD(n_components=256)\n",
    "        self.items = []\n",
    "    \n",
    "    '''\n",
    "    items: list<string>\n",
    "    '''\n",
    "    def fit_data(self, items):\n",
    "        self.tfidf.fit_data(items)\n",
    "        \n",
    "        for i in items:\n",
    "            self.tfidf_space.append(self.tfidf.get_tfidf(i))\n",
    "            self.items.append(i)\n",
    "            \n",
    "#         self.svd.fit(self.tfidf_space)\n",
    "#         self.svd_tfidf_vector = self.svd.transform(self.tfidf_space)\n",
    "        \n",
    "    '''\n",
    "    item: string\n",
    "    '''\n",
    "    def get_similiar_items(self, item):\n",
    "        query_vector = self.tfidf.get_tfidf(item)\n",
    "        query_vector = np.reshape(query_vector, (1,-1))\n",
    "        # search\n",
    "        sim_maxtrix = sklearn.metrics.pairwise.cosine_similarity(query_vector, self.tfidf_space)\n",
    "        sim_maxtrix = np.reshape(sim_maxtrix, (-1,))\n",
    "        idx = (-sim_maxtrix).argsort()[:20]\n",
    "        for _id in idx:\n",
    "            print(_id, sim_maxtrix[_id])\n",
    "#             print(newItems[_id]['name'].upper())\n",
    "            print(self.items[_id], \"\\n\\n\")\n"
   ]
  },
  {
   "cell_type": "code",
   "execution_count": 12,
   "metadata": {},
   "outputs": [],
   "source": [
    "s = Storage()\n",
    "\n",
    "item_descriptions = []\n",
    "for i in items:\n",
    "    item_descriptions.append(i)\n",
    "    \n",
    "s.fit_data(item_descriptions)"
   ]
  },
  {
   "cell_type": "code",
   "execution_count": 14,
   "metadata": {},
   "outputs": [
    {
     "name": "stdout",
     "output_type": "stream",
     "text": [
      "13 0.3217422395559551\n",
      " Laptop  MSI  Ryzen 5 5500U 2.1GHz 8 GB 512 GB SSD NVMe PCIe (Có thể tháo ra, lắp thanh khác tối đa 2TB) Card tích hợp Radeon 15.6\" Full HD (1920 x 1080) \n",
      "\n",
      "\n",
      "101 0.31729649927375625\n",
      " Laptop  HP  Ryzen 5 5600H 3.3GHz 8 GB 512 GB SSD NVMe PCIe (Có thể tháo ra, lắp thanh khác tối đa 1TB) Card rời RTX 3050 4GB 16.1\" Full HD (1920 x 1080) \n",
      "\n",
      "\n",
      "0 0.3126403752194007\n",
      " Laptop  Acer  Ryzen 5 5600H 3.3GHz 8 GB 512 GB SSD NVMe PCIe (Có thể tháo ra, lắp thanh khác tối đa 1TB) Card rời GTX 1650 4GB 15.6\" Full HD (1920 x 1080) \n",
      "\n",
      "\n",
      "123 0.31115383457537266\n",
      " Laptop  Acer  Ryzen 5 5500U 2.1GHz 8 GB 512 GB SSD NVMe PCIe (Có thể tháo ra, lắp thanh khác tối đa 1TB) Card rời GTX 1650 4GB 15.6\" Full HD (1920 x 1080) \n",
      "\n",
      "\n",
      "142 0.3049549057895718\n",
      " Laptop  Acer  Ryzen 5 5500U 2.1GHz 8 GB 256 GB SSD NVMe PCIe (Có thể tháo ra, lắp thanh khác tối đa 1TB) Card rời GTX 1650 4GB 15.6\" Full HD (1920 x 1080) \n",
      "\n",
      "\n",
      "87 0.3049405607303137\n",
      " Laptop  Asus  Ryzen 5 5600H 3.3GHz 8 GB 512 GB SSD NVMe PCIe (Có thể tháo ra, lắp thanh khác tối đa 2TB) Card rời RTX 3050 4GB 15.6\" Full HD (1920 x 1080) OLED \n",
      "\n",
      "\n",
      "146 0.3021667473348229\n",
      " Laptop  Dell  Ryzen 5 3450U 2.1GHz 8 GB 256 GB SSD NVMe PCIe Card tích hợp Radeon 15.6\" Full HD (1920 x 1080) \n",
      "\n",
      "\n",
      "94 0.29091791892059493\n",
      " Laptop  HP  Ryzen 5 5600U 2.30 GHz 8 GB 256 GB SSD NVMe PCIe Card tích hợp Radeon 13.3\" Full HD (1920 x 1080) \n",
      "\n",
      "\n",
      "75 0.285947514944745\n",
      " Laptop  Dell  Ryzen 5 5600H 3.3GHz 16 GB 512 GB SSD NVMe PCIe (Có thể tháo ra, lắp thanh khác tối đa 2TB (2280) / 1TB (2230)) Card rời RTX 3050 4GB 15.6\" Full HD (1920 x 1080) \n",
      "\n",
      "\n",
      "90 0.276359214555237\n",
      " Laptop  Dell  Ryzen 5 5600H 3.3GHz 8 GB 256 GB SSD NVMe PCIe (Có thể tháo ra, lắp thanh khác tối đa 2TB (2280) / 1TB (2230)) Card rời RTX 3050 4GB 15.6\" Full HD (1920 x 1080) \n",
      "\n",
      "\n",
      "5 0.2742328235304026\n",
      " Laptop  MSI  Ryzen 5 5500U 2.1GHz 8 GB 512 GB SSD NVMe PCIe (Có thể tháo ra, lắp thanh khác tối đa 2TB) Card tích hợp Radeon Vega 7 14\" Full HD (1920 x 1080) \n",
      "\n",
      "\n",
      "72 0.26236748421482853\n",
      " Laptop  Lenovo  Ryzen 5 5600H 3.3GHz 8 GB 512 GB SSD NVMe PCIe (Có thể tháo ra, lắp thanh khác tối đa 1TB (2280) / 512GB (2242)) Card rời RTX 3050 4GB 15.6\" Full HD (1920 x 1080) \n",
      "\n",
      "\n",
      "188 0.2474274272991299\n",
      " Laptop  Lenovo  Ryzen 5 5600H 3.3GHz 16 GB 512 GB SSD NVMe PCIe (Có thể tháo ra, lắp thanh khác tối đa 1TB) Card tích hợp Radeon 14\" 2.2K (2240x1400) \n",
      "\n",
      "\n",
      "155 0.23807482417208473\n",
      " Laptop  Dell  Ryzen 5 3500U 2.1GHz 8 GB 512 GB SSD NVMe PCIe (Có thể tháo ra, lắp thanh khác tối đa 1TB (2280) / 512GB (2230)) Card tích hợp Radeon Vega 8 14\" Full HD (1920 x 1080) \n",
      "\n",
      "\n",
      "154 0.23807482417208473\n",
      " Laptop  Dell  Ryzen 5 3500U 2.1GHz 8 GB 512 GB SSD NVMe PCIe (Có thể tháo ra, lắp thanh khác tối đa 1TB (2280) / 512GB (2230)) Card tích hợp Radeon Vega 8 14\" Full HD (1920 x 1080) \n",
      "\n",
      "\n",
      "153 2.680146643057086e-05\n",
      " Laptop  HP  i5 1135G7 2.4GHz 8 GB 512 GB SSD NVMe PCIe Card tích hợp Intel Iris Xe 14\" Full HD (1920 x 1080) \n",
      "\n",
      "\n",
      "144 2.680146643057086e-05\n",
      " Laptop  HP  i5 1135G7 2.4GHz 8 GB 512 GB SSD NVMe PCIe Card tích hợp Intel Iris Xe 14\" Full HD (1920 x 1080) \n",
      "\n",
      "\n",
      "105 2.645025962625602e-05\n",
      " Laptop  Asus  i5 1135G7 2.4GHz 8 GB 512 GB SSD NVMe PCIe Card tích hợp Intel Iris Xe 14\" Full HD (1920 x 1080) \n",
      "\n",
      "\n",
      "108 2.645025962625602e-05\n",
      " Laptop  Asus  i5 1135G7 2.4GHz 8 GB 512 GB SSD NVMe PCIe Card tích hợp Intel Iris Xe 14\" Full HD (1920 x 1080) \n",
      "\n",
      "\n",
      "137 2.645025962625602e-05\n",
      " Laptop  Asus  i5 1135G7 2.4GHz 8 GB 512 GB SSD NVMe PCIe Card tích hợp Intel Iris Xe 14\" Full HD (1920 x 1080) \n",
      "\n",
      "\n"
     ]
    }
   ],
   "source": [
    "s.get_similiar_items(\"Laptop  Acer  Ryzen 5\")"
   ]
  }
 ],
 "metadata": {
  "kernelspec": {
   "display_name": "jupenv",
   "language": "python",
   "name": "jupenv"
  },
  "language_info": {
   "codemirror_mode": {
    "name": "ipython",
    "version": 3
   },
   "file_extension": ".py",
   "mimetype": "text/x-python",
   "name": "python",
   "nbconvert_exporter": "python",
   "pygments_lexer": "ipython3",
   "version": "3.9.2"
  }
 },
 "nbformat": 4,
 "nbformat_minor": 2
}
