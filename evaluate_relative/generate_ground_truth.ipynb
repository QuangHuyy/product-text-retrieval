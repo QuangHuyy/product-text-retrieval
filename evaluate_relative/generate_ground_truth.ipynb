{
 "cells": [
  {
   "cell_type": "code",
   "execution_count": 7,
   "metadata": {},
   "outputs": [
    {
     "name": "stdout",
     "output_type": "stream",
     "text": [
      "[ Repository - getAll() ] self.collection =  Collection(Database(MongoClient(host=['cluster0-shard-00-02.ot4kn.mongodb.net:27017', 'cluster0-shard-00-01.ot4kn.mongodb.net:27017', 'cluster0-shard-00-00.ot4kn.mongodb.net:27017'], document_class=dict, tz_aware=False, connect=True, retrywrites=True, w='majority', authsource='admin', replicaset='atlas-117wd3-shard-0', tls=True), 'ecommerce_electronic'), 'product')\n"
     ]
    }
   ],
   "source": [
    "import mongo as mg\n",
    "\n",
    "repo = mg.Repository()\n",
    "list = repo.getAll()\n",
    "\n",
    "laptops = [l['category'] == 'Laptop' for l in list]"
   ]
  },
  {
   "cell_type": "code",
   "execution_count": 16,
   "metadata": {},
   "outputs": [
    {
     "data": {
      "text/plain": [
       "{'_id': ObjectId('627292d0d822aed008708af4'),\n",
       " '': '1',\n",
       " 'code': '160010000000.0959',\n",
       " 'name': ' Chuột',\n",
       " 'price': '550000',\n",
       " 'category': 'Chuột',\n",
       " 'brand': ' Asus ',\n",
       " 'DauVao': 'Dây dài 184 cm',\n",
       " 'Phan Giai': 'Dây cắm USB',\n",
       " 'LED': 'ROG Armoury II',\n",
       " 'Trong luong': 'Asus. Xem thông tin hãng',\n",
       " 'Thoi gian dung sac': 'Trung Quốc',\n",
       " 'pin': 'Đài Loan',\n",
       " 'rating': '4.8',\n",
       " 'img': '//cdn.tgdd.vn/mwgcart/mwgcore/ContentMwg/images/bg_csmh_tgdd-min.png?v=11',\n",
       " 'MoTa': '\\r\\nThiết kế đơn giản, không quá hầm hốChuột Gaming Asus TUF M3 Đen có thiết kế nhỏ gọn, cùng chất liệu nhựa có độ ma sát cao giúp cho việc cầm nắm chắc chắn hơn. Thiết kế công thái học phù hợp với người thuận tay phải. Trọng lượng chỉ 84 gram khá nhẹ, tiện dụng.Linh hoạt thay đổi độ nhạy chuột cùng với bốn cấp DPIChuột ASUS\\xa0được trang bị cảm biến quang 200 - 7000 DPI\\xa0cho người dùng dễ dàng điều chỉnh độ nhạy khi di chuyển chuột sao cho phù hợp với từng loại game.Kết nối được hầu hết các loại laptop, PC thông qua cổng USBDây kết nối được bọc lớp nhựa bền bỉ cùng độ dài 184 cm cho người dùng thoải mái sử dụng.Sử dụng đèn ASUS Aura Sync RGB tùy biến màu sắc logo giúp chuột nổi bật hơn khi sử dụng ở môi trường tốiTrang bị bảy nút chức năng, có thể tùy chỉnhĐược trang bị các nút điều chỉnh như: DPI, cuộn trang (scroll up, scroll down, scroll click) và nút tiến một trang (forward), lùi một trang (backward).Dễ dàng điều chỉnh theo nhu cầu sử dụng của mình ngay trên chuột, nút nhấn êm nhẹ, độ bền lên đến 10 triệu lần. Bên cạnh đó, con lăn răng cưa cuộn trang chính xác, nhanh nhạy.Dễ dàng thiết lập riêng chức năng cho chuột của bạn với tiện ích Armoury IISử dụng tiện ích Armoury II cho bạn dễ dàng thiết lập các điểu khiển mở rộng và thực hiện cài đặt riêng trên thiết bị như: Tùy biến màu sắc, gán nút bấm,...Tải tiện ích Armoury II:\\xa0DownloadChuột Gaming Asus TUF M3 thiết kế đơn giản, nhỏ gọn cùng độ nhạy cao cho người dùng di chuyển chính xác khi chơi game.\\r\\n',\n",
       " 'full_name': ' Chuột  Asus  Dây dài 184 cm Dây cắm USB Asus. Xem thông tin hãng Đài Loan',\n",
       " 'relative': ['160010000000.0959',\n",
       "  '160010000000.04175',\n",
       "  '160010000000.02313',\n",
       "  '160010000000.02188',\n",
       "  '160010000000.08856',\n",
       "  '160010000000.09714',\n",
       "  '160010000000.02567',\n",
       "  '160010000000.09167',\n",
       "  '160010000000.05197',\n",
       "  '160010000000.07083',\n",
       "  '163345000000.05505',\n",
       "  '160010000000.06937',\n",
       "  '160010000000.05154',\n",
       "  '160010000000.01947',\n",
       "  '164095000000.09537',\n",
       "  '160010000000.0891',\n",
       "  '220042000000.04877',\n",
       "  '160010000000.0737',\n",
       "  '160010000000.0968',\n",
       "  '160010000000.07227']}"
      ]
     },
     "execution_count": 16,
     "metadata": {},
     "output_type": "execute_result"
    }
   ],
   "source": [
    "list[1]"
   ]
  },
  {
   "cell_type": "code",
   "execution_count": 15,
   "metadata": {},
   "outputs": [
    {
     "ename": "TypeError",
     "evalue": "'list' object is not callable",
     "output_type": "error",
     "traceback": [
      "\u001b[1;31m---------------------------------------------------------------------------\u001b[0m",
      "\u001b[1;31mTypeError\u001b[0m                                 Traceback (most recent call last)",
      "\u001b[1;32m~\\AppData\\Local\\Temp\\ipykernel_13504\\652654175.py\u001b[0m in \u001b[0;36m<module>\u001b[1;34m\u001b[0m\n\u001b[0;32m      2\u001b[0m \u001b[0mfiltered\u001b[0m \u001b[1;33m=\u001b[0m \u001b[0mfilter\u001b[0m\u001b[1;33m(\u001b[0m\u001b[1;32mlambda\u001b[0m \u001b[0mscore\u001b[0m\u001b[1;33m:\u001b[0m \u001b[0mscore\u001b[0m \u001b[1;33m>=\u001b[0m \u001b[1;36m70\u001b[0m\u001b[1;33m,\u001b[0m \u001b[0mscores\u001b[0m\u001b[1;33m)\u001b[0m\u001b[1;33m\u001b[0m\u001b[1;33m\u001b[0m\u001b[0m\n\u001b[0;32m      3\u001b[0m \u001b[1;33m\u001b[0m\u001b[0m\n\u001b[1;32m----> 4\u001b[1;33m \u001b[0mprint\u001b[0m\u001b[1;33m(\u001b[0m\u001b[0mlist\u001b[0m\u001b[1;33m(\u001b[0m\u001b[0mfiltered\u001b[0m\u001b[1;33m)\u001b[0m\u001b[1;33m)\u001b[0m\u001b[1;33m\u001b[0m\u001b[1;33m\u001b[0m\u001b[0m\n\u001b[0m",
      "\u001b[1;31mTypeError\u001b[0m: 'list' object is not callable"
     ]
    }
   ],
   "source": [
    "scores = [70, 60, 80, 90, 50]\n",
    "filtered = filter(lambda score: score >= 70, scores)\n",
    "\n",
    "print(list(filtered))\n"
   ]
  }
 ],
 "metadata": {
  "interpreter": {
   "hash": "4fcf09336e0d77aa1f11fcaf54399b36dbd056e39b4fc51011da680988431408"
  },
  "kernelspec": {
   "display_name": "Python 3.7.12 ('rsenv')",
   "language": "python",
   "name": "python3"
  },
  "language_info": {
   "codemirror_mode": {
    "name": "ipython",
    "version": 3
   },
   "file_extension": ".py",
   "mimetype": "text/x-python",
   "name": "python",
   "nbconvert_exporter": "python",
   "pygments_lexer": "ipython3",
   "version": "3.7.12"
  },
  "orig_nbformat": 4
 },
 "nbformat": 4,
 "nbformat_minor": 2
}
