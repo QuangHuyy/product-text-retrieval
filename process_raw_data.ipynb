{
 "cells": [
  {
   "cell_type": "code",
   "execution_count": null,
   "id": "ca1dec9e",
   "metadata": {},
   "outputs": [],
   "source": [
    "from pandas import read_excel\n",
    "my_sheet = 'Sheet1' # change it to your sheet name, you can find your sheet name at the bottom left of your excel file\n",
    "\n",
    "file_structure = './tdgd_laptop/page'\n",
    "file_name = file_structure + '0.xlsx' # change it to the name of your excel file\n",
    "df = read_excel(file_name, sheet_name = my_sheet)\n",
    "# print(df.head()) # shows headers with top 5 rows\n",
    "\n",
    "df2 = read_excel(f'{file_structure}1.xlsx', sheet_name = my_sheet)\n",
    "\n",
    "for i in range(1, 14):\n",
    "    # print('i = ', i)\n",
    "    df = df.append(read_excel(f'{file_structure}{i}.xlsx', sheet_name = my_sheet))\n",
    "    \n",
    "t = df.duplicated(subset='code')"
   ]
  },
  {
   "cell_type": "code",
   "execution_count": 50,
   "id": "208317d3",
   "metadata": {},
   "outputs": [],
   "source": [
    "cols = ['name', 'cpu1']\n",
    "df[cols] = df[cols].apply(lambda s: s.astype(str))\n",
    "# df[cols] = df[cols].apply(lambda s: str(s))"
   ]
  },
  {
   "cell_type": "code",
   "execution_count": 51,
   "id": "98a4d95e",
   "metadata": {},
   "outputs": [],
   "source": [
    "import numpy as np\n",
    "df = df.replace(np.nan, '', regex=True)"
   ]
  },
  {
   "cell_type": "code",
   "execution_count": 52,
   "id": "68c37981",
   "metadata": {},
   "outputs": [],
   "source": [
    "df = df.drop_duplicates()"
   ]
  },
  {
   "cell_type": "code",
   "execution_count": 53,
   "id": "46b3b8a3",
   "metadata": {},
   "outputs": [],
   "source": [
    "def process_ram(ram):\n",
    "    com = ram.split()\n",
    "    concated = ''\n",
    "    if len(com) > 1:\n",
    "        for c in com:\n",
    "            concated += c + '_'\n",
    "        concated = concated[:-1]\n",
    "        \n",
    "    return com[0] + ' ' + concated"
   ]
  },
  {
   "cell_type": "code",
   "execution_count": 54,
   "id": "2a50788f",
   "metadata": {},
   "outputs": [],
   "source": [
    "# df['ram_2'] = df['ram'].apply(lambda x: process_ram(x))\n",
    "# df['cpu1_2'] = df['cpu1'].apply(lambda x: process_ram(x))"
   ]
  },
  {
   "cell_type": "code",
   "execution_count": 55,
   "id": "dddd2986",
   "metadata": {},
   "outputs": [],
   "source": [
    "df['code'] = df['code'].apply(lambda x: str(x))\n",
    "df['name'] = df['name'].apply(lambda x: str(x).strip())"
   ]
  },
  {
   "cell_type": "code",
   "execution_count": 56,
   "id": "037f5876",
   "metadata": {},
   "outputs": [],
   "source": [
    "# df['full_name'] = df['name'] + ' ' + df['brand'] + ' ' + df['cpu1_2'] + ' ' + df['cpu2'] + ' ' + df['cpu3'] + ' ' + df['ram_2'] + ' ' + df['oCung'] + ' ' + df['cardManHinh1'] + ' ' + df['cardManHinh2'] + ' ' + df['manHinh1'] + ' ' + df['manHinh2']\n",
    "\n",
    "df['full_name'] = df['name'] + ' ' + df['brand'] + ' ' + df['cpu1'] + ' ' + df['cpu2'] + ' ' + df['cpu3'] + ' ' + df['ram'] + ' ' + df['cardManHinh1'] + ' ' + df['cardManHinh2'] + ' ' + df['manHinh1'] + ' ' + df['manHinh2']"
   ]
  },
  {
   "cell_type": "code",
   "execution_count": 57,
   "id": "60c8245e",
   "metadata": {},
   "outputs": [
    {
     "data": {
      "text/plain": [
       "code          object\n",
       "name          object\n",
       "price          int64\n",
       "category      object\n",
       "brand         object\n",
       "cpu1          object\n",
       "cpu2          object\n",
       "cpu3          object\n",
       "ram           object\n",
       "disk          object\n",
       "vga1          object\n",
       "vga2          object\n",
       "screen1       object\n",
       "screen2       object\n",
       "design        object\n",
       "size          object\n",
       "release       object\n",
       "rating       float64\n",
       "img           object\n",
       "full_name     object\n",
       "dtype: object"
      ]
     },
     "execution_count": 57,
     "metadata": {},
     "output_type": "execute_result"
    }
   ],
   "source": [
    "df = df.rename(columns={'oCung':'disk'})\n",
    "df = df.rename(columns={'cardManHinh1':'vga1'})\n",
    "df = df.rename(columns={'cardManHinh2':'vga2'})\n",
    "df = df.rename(columns={'manHinh1':'screen1'})\n",
    "df = df.rename(columns={'manHinh2':'screen2'})\n",
    "df = df.rename(columns={'thietKe':'design'})\n",
    "df = df.rename(columns={'kichThuoc':'size'})\n",
    "df = df.rename(columns={'thoiGianRaMat':'release'})\n",
    "df = df.drop(columns=['congKetNoi1', 'congKetNoi2'])\n",
    "\n",
    "\n",
    "df.dtypes\n"
   ]
  },
  {
   "cell_type": "code",
   "execution_count": 58,
   "id": "0d3192ad",
   "metadata": {},
   "outputs": [],
   "source": [
    "df.to_csv('./tdgd_laptop/laptop_w_img_all.csv', index=False)"
   ]
  },
  {
   "cell_type": "code",
   "execution_count": 59,
   "id": "ac7b57ba",
   "metadata": {},
   "outputs": [],
   "source": [
    "# df.loc[(df['brand'] == 'HP')]"
   ]
  }
 ],
 "metadata": {
  "kernelspec": {
   "display_name": "rsenv",
   "language": "python",
   "name": "rsenv"
  },
  "language_info": {
   "codemirror_mode": {
    "name": "ipython",
    "version": 3
   },
   "file_extension": ".py",
   "mimetype": "text/x-python",
   "name": "python",
   "nbconvert_exporter": "python",
   "pygments_lexer": "ipython3",
   "version": "3.7.12"
  }
 },
 "nbformat": 4,
 "nbformat_minor": 5
}
