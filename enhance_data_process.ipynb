{
 "cells": [
  {
   "cell_type": "code",
   "execution_count": null,
   "metadata": {},
   "outputs": [],
   "source": [
    "import pandas as pd\n",
    "\n",
    "df = pd.read_csv(\"combined.csv\")\n",
    "# df = pd.read_csv(\"tdgd_laptop/laptop_all.csv\")\n",
    "df.head()\n"
   ]
  },
  {
   "cell_type": "code",
   "execution_count": 2,
   "metadata": {},
   "outputs": [],
   "source": [
    "characters_to_remove = \"\\\"()-/\"\n",
    "\n",
    "def clean_values(val):\n",
    "    val = str(val).lower()\n",
    "    for character in characters_to_remove:\n",
    "        val = val.replace(character, \"\")\n",
    "\n",
    "    return val\n",
    "\n"
   ]
  },
  {
   "cell_type": "code",
   "execution_count": 3,
   "metadata": {},
   "outputs": [],
   "source": [
    "cols_to_cleaned = ['name', 'brand', 'cpu1', 'cpu2', 'cpu3', 'ram', 'oCung', 'cardManHinh1', 'cardManHinh2', 'manHinh1', 'manHinh2', 'congKetNoi1', 'congKetNoi2', 'thietKe']\n",
    "\n",
    "for c in cols_to_cleaned:\n",
    "    df[c] = df[c].apply(lambda x: clean_values(x))\n"
   ]
  },
  {
   "cell_type": "code",
   "execution_count": null,
   "metadata": {},
   "outputs": [],
   "source": [
    "df['full_name'] = ''\n",
    "for c in cols_to_cleaned:\n",
    "    df['full_name'] += ' ' + df[c]\n",
    "\n",
    "df.head()"
   ]
  },
  {
   "cell_type": "code",
   "execution_count": 22,
   "metadata": {},
   "outputs": [],
   "source": [
    "# df.to_csv(\"laptops_all.csv\", index=False)\n",
    "df.to_csv(\"combined.csv\", index=False)"
   ]
  }
 ],
 "metadata": {
  "interpreter": {
   "hash": "4fcf09336e0d77aa1f11fcaf54399b36dbd056e39b4fc51011da680988431408"
  },
  "kernelspec": {
   "display_name": "Python 3.7.11 ('rsenv')",
   "language": "python",
   "name": "python3"
  },
  "language_info": {
   "codemirror_mode": {
    "name": "ipython",
    "version": 3
   },
   "file_extension": ".py",
   "mimetype": "text/x-python",
   "name": "python",
   "nbconvert_exporter": "python",
   "pygments_lexer": "ipython3",
   "version": "3.7.12"
  },
  "orig_nbformat": 4
 },
 "nbformat": 4,
 "nbformat_minor": 2
}
